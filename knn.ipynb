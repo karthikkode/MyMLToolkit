{
 "cells": [
  {
   "cell_type": "code",
   "execution_count": 12,
   "metadata": {},
   "outputs": [],
   "source": [
    "import pandas as pd\n",
    "import numpy as np\n",
    "from collections import Counter\n",
    "\n",
    "iris = pd.read_csv('Iris.csv')"
   ]
  },
  {
   "cell_type": "code",
   "execution_count": 13,
   "metadata": {},
   "outputs": [
    {
     "data": {
      "text/plain": [
       "array(['Iris-setosa', 'Iris-versicolor', 'Iris-virginica'], dtype=object)"
      ]
     },
     "execution_count": 13,
     "metadata": {},
     "output_type": "execute_result"
    }
   ],
   "source": [
    "iris_x = iris[['SepalLengthCm','SepalWidthCm','PetalLengthCm','PetalWidthCm']]\n",
    "iris_y = iris['Species']\n",
    "np.unique(iris_y)"
   ]
  },
  {
   "cell_type": "code",
   "execution_count": 14,
   "metadata": {},
   "outputs": [],
   "source": [
    "iris_array = iris.to_numpy()"
   ]
  },
  {
   "cell_type": "code",
   "execution_count": 15,
   "metadata": {},
   "outputs": [],
   "source": [
    "for i in range(0, len(iris_array)):\n",
    "    for j in range(0, len(iris_array[i])):\n",
    "        if(iris_array[i][j]== \"Iris-virginica\"):\n",
    "            iris_array[i][j]=1\n",
    "        if(iris_array[i][j]== \"Iris-setosa\"):\n",
    "            iris_array[i][j]=2\n",
    "        if(iris_array[i][j]== \"Iris-versicolor\"):\n",
    "            iris_array[i][j]=3"
   ]
  },
  {
   "cell_type": "code",
   "execution_count": 16,
   "metadata": {},
   "outputs": [],
   "source": [
    "def train_test_split(train, test, data):\n",
    "    train_data = []\n",
    "    test_data = []\n",
    "    for row in data:\n",
    "        n = np.random.randint(0,100)\n",
    "        if n > train:\n",
    "            test_data.append(row)\n",
    "        else:\n",
    "            train_data.append(row)\n",
    "    return np.array(train_data), np.array(test_data)\n",
    "\n",
    "train_data, test_data = train_test_split(80,20, iris_array)\n"
   ]
  },
  {
   "cell_type": "code",
   "execution_count": 17,
   "metadata": {},
   "outputs": [],
   "source": [
    "def euclidean_distance(p1, p2):\n",
    "    dist_square = 0\n",
    "    for i in range(0, len(p1)):\n",
    "        dist_square += pow(p1[i]-p2[i],2)\n",
    "    return pow(dist_square, 0.5)"
   ]
  },
  {
   "cell_type": "code",
   "execution_count": 18,
   "metadata": {},
   "outputs": [],
   "source": [
    "xtrain = train_data[:, 1:-1]\n",
    "ytrain = train_data[:,-1]\n",
    "xtest = test_data[:, 1:-1]\n",
    "ytest = test_data[:,-1]"
   ]
  },
  {
   "cell_type": "code",
   "execution_count": null,
   "metadata": {},
   "outputs": [],
   "source": [
    "def knnClassifier(xtest, xtrain, ytest, ytrain, k):\n",
    "    ytest_predicted = []\n",
    "    for i in range(0,len(xtest)):\n",
    "        distances = []\n",
    "        for j in range(0, len(xtrain)):\n",
    "            dist = euclidean_distance(xtest[i], xtrain[j])\n",
    "            distances.append(dist)\n",
    "        \n",
    "        distances = np.array(distances)\n",
    "        ksmallest_indices = np.argsort(distances)[:k]\n",
    "        ksmallest = ytrain[ksmallest_indices]\n",
    "        elements, counts = np.unique(ksmallest, return_counts=True)\n",
    "        yq = elements[np.argmax(counts)]\n",
    "        ytest_predicted.append(yq)\n",
    "    accuracy = np.mean(ytest_predicted == ytest)\n",
    "    return(ytest_predicted, accuracy)"
   ]
  }
 ],
 "metadata": {
  "kernelspec": {
   "display_name": "Python 3",
   "language": "python",
   "name": "python3"
  },
  "language_info": {
   "codemirror_mode": {
    "name": "ipython",
    "version": 3
   },
   "file_extension": ".py",
   "mimetype": "text/x-python",
   "name": "python",
   "nbconvert_exporter": "python",
   "pygments_lexer": "ipython3",
   "version": "3.8.10"
  }
 },
 "nbformat": 4,
 "nbformat_minor": 2
}
